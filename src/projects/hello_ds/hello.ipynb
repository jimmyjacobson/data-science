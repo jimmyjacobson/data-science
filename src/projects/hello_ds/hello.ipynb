{
 "cells": [
  {
   "cell_type": "code",
   "execution_count": 6,
   "metadata": {},
   "outputs": [],
   "source": [
    "import pandas as pd\n",
    "import numpy as np\n",
    "data = pd.read_csv('../../../data/titanic.csv')"
   ]
  },
  {
   "cell_type": "code",
   "execution_count": 7,
   "metadata": {},
   "outputs": [],
   "source": [
    "data.replace('?', np.nan, inplace= True)\n",
    "data = data.astype({\"age\": np.float64, \"fare\": np.float64})"
   ]
  },
  {
   "cell_type": "code",
   "execution_count": 8,
   "metadata": {},
   "outputs": [
    {
     "ename": "ImportError",
     "evalue": "dlopen(/Users/jimmyjacobson/miniforge3/envs/tf3/lib/python3.8/site-packages/matplotlib/ft2font.cpython-38-darwin.so, 2): Symbol not found: _FT_Done_Face\n  Referenced from: /Users/jimmyjacobson/miniforge3/envs/tf3/lib/python3.8/site-packages/matplotlib/ft2font.cpython-38-darwin.so\n  Expected in: flat namespace\n in /Users/jimmyjacobson/miniforge3/envs/tf3/lib/python3.8/site-packages/matplotlib/ft2font.cpython-38-darwin.so",
     "output_type": "error",
     "traceback": [
      "\u001b[0;31m---------------------------------------------------------------------------\u001b[0m",
      "\u001b[0;31mImportError\u001b[0m                               Traceback (most recent call last)",
      "\u001b[0;32m<ipython-input-8-c66dfdca3cf5>\u001b[0m in \u001b[0;36m<module>\u001b[0;34m\u001b[0m\n\u001b[0;32m----> 1\u001b[0;31m \u001b[0;32mimport\u001b[0m \u001b[0mseaborn\u001b[0m \u001b[0;32mas\u001b[0m \u001b[0msns\u001b[0m\u001b[0;34m\u001b[0m\u001b[0;34m\u001b[0m\u001b[0m\n\u001b[0m\u001b[1;32m      2\u001b[0m \u001b[0;32mimport\u001b[0m \u001b[0mmatplotlib\u001b[0m\u001b[0;34m.\u001b[0m\u001b[0mpyplot\u001b[0m \u001b[0;32mas\u001b[0m \u001b[0mplt\u001b[0m\u001b[0;34m\u001b[0m\u001b[0;34m\u001b[0m\u001b[0m\n\u001b[1;32m      3\u001b[0m \u001b[0;34m\u001b[0m\u001b[0m\n\u001b[1;32m      4\u001b[0m \u001b[0mfig\u001b[0m\u001b[0;34m,\u001b[0m \u001b[0maxs\u001b[0m \u001b[0;34m=\u001b[0m \u001b[0mplt\u001b[0m\u001b[0;34m.\u001b[0m\u001b[0msubplots\u001b[0m\u001b[0;34m(\u001b[0m\u001b[0mncols\u001b[0m\u001b[0;34m=\u001b[0m\u001b[0;36m5\u001b[0m\u001b[0;34m,\u001b[0m \u001b[0mfigsize\u001b[0m\u001b[0;34m=\u001b[0m\u001b[0;34m(\u001b[0m\u001b[0;36m30\u001b[0m\u001b[0;34m,\u001b[0m\u001b[0;36m5\u001b[0m\u001b[0;34m)\u001b[0m\u001b[0;34m)\u001b[0m\u001b[0;34m\u001b[0m\u001b[0;34m\u001b[0m\u001b[0m\n\u001b[1;32m      5\u001b[0m \u001b[0msns\u001b[0m\u001b[0;34m.\u001b[0m\u001b[0mviolinplot\u001b[0m\u001b[0;34m(\u001b[0m\u001b[0mx\u001b[0m\u001b[0;34m=\u001b[0m\u001b[0;34m\"survived\"\u001b[0m\u001b[0;34m,\u001b[0m \u001b[0my\u001b[0m\u001b[0;34m=\u001b[0m\u001b[0;34m\"age\"\u001b[0m\u001b[0;34m,\u001b[0m \u001b[0mhue\u001b[0m\u001b[0;34m=\u001b[0m\u001b[0;34m\"sex\"\u001b[0m\u001b[0;34m,\u001b[0m \u001b[0mdata\u001b[0m\u001b[0;34m=\u001b[0m\u001b[0mdata\u001b[0m\u001b[0;34m,\u001b[0m \u001b[0max\u001b[0m\u001b[0;34m=\u001b[0m\u001b[0maxs\u001b[0m\u001b[0;34m[\u001b[0m\u001b[0;36m0\u001b[0m\u001b[0;34m]\u001b[0m\u001b[0;34m)\u001b[0m\u001b[0;34m\u001b[0m\u001b[0;34m\u001b[0m\u001b[0m\n",
      "\u001b[0;32m~/miniforge3/envs/tf3/lib/python3.8/site-packages/seaborn/__init__.py\u001b[0m in \u001b[0;36m<module>\u001b[0;34m\u001b[0m\n\u001b[1;32m      1\u001b[0m \u001b[0;31m# Import seaborn objects\u001b[0m\u001b[0;34m\u001b[0m\u001b[0;34m\u001b[0m\u001b[0;34m\u001b[0m\u001b[0m\n\u001b[0;32m----> 2\u001b[0;31m \u001b[0;32mfrom\u001b[0m \u001b[0;34m.\u001b[0m\u001b[0mrcmod\u001b[0m \u001b[0;32mimport\u001b[0m \u001b[0;34m*\u001b[0m  \u001b[0;31m# noqa: F401,F403\u001b[0m\u001b[0;34m\u001b[0m\u001b[0;34m\u001b[0m\u001b[0m\n\u001b[0m\u001b[1;32m      3\u001b[0m \u001b[0;32mfrom\u001b[0m \u001b[0;34m.\u001b[0m\u001b[0mutils\u001b[0m \u001b[0;32mimport\u001b[0m \u001b[0;34m*\u001b[0m  \u001b[0;31m# noqa: F401,F403\u001b[0m\u001b[0;34m\u001b[0m\u001b[0;34m\u001b[0m\u001b[0m\n\u001b[1;32m      4\u001b[0m \u001b[0;32mfrom\u001b[0m \u001b[0;34m.\u001b[0m\u001b[0mpalettes\u001b[0m \u001b[0;32mimport\u001b[0m \u001b[0;34m*\u001b[0m  \u001b[0;31m# noqa: F401,F403\u001b[0m\u001b[0;34m\u001b[0m\u001b[0;34m\u001b[0m\u001b[0m\n\u001b[1;32m      5\u001b[0m \u001b[0;32mfrom\u001b[0m \u001b[0;34m.\u001b[0m\u001b[0mrelational\u001b[0m \u001b[0;32mimport\u001b[0m \u001b[0;34m*\u001b[0m  \u001b[0;31m# noqa: F401,F403\u001b[0m\u001b[0;34m\u001b[0m\u001b[0;34m\u001b[0m\u001b[0m\n",
      "\u001b[0;32m~/miniforge3/envs/tf3/lib/python3.8/site-packages/seaborn/rcmod.py\u001b[0m in \u001b[0;36m<module>\u001b[0;34m\u001b[0m\n\u001b[1;32m      3\u001b[0m \u001b[0;32mimport\u001b[0m \u001b[0mfunctools\u001b[0m\u001b[0;34m\u001b[0m\u001b[0;34m\u001b[0m\u001b[0m\n\u001b[1;32m      4\u001b[0m \u001b[0;32mfrom\u001b[0m \u001b[0mdistutils\u001b[0m\u001b[0;34m.\u001b[0m\u001b[0mversion\u001b[0m \u001b[0;32mimport\u001b[0m \u001b[0mLooseVersion\u001b[0m\u001b[0;34m\u001b[0m\u001b[0;34m\u001b[0m\u001b[0m\n\u001b[0;32m----> 5\u001b[0;31m \u001b[0;32mimport\u001b[0m \u001b[0mmatplotlib\u001b[0m \u001b[0;32mas\u001b[0m \u001b[0mmpl\u001b[0m\u001b[0;34m\u001b[0m\u001b[0;34m\u001b[0m\u001b[0m\n\u001b[0m\u001b[1;32m      6\u001b[0m \u001b[0;32mfrom\u001b[0m \u001b[0mcycler\u001b[0m \u001b[0;32mimport\u001b[0m \u001b[0mcycler\u001b[0m\u001b[0;34m\u001b[0m\u001b[0;34m\u001b[0m\u001b[0m\n\u001b[1;32m      7\u001b[0m \u001b[0;32mfrom\u001b[0m \u001b[0;34m.\u001b[0m \u001b[0;32mimport\u001b[0m \u001b[0mpalettes\u001b[0m\u001b[0;34m\u001b[0m\u001b[0;34m\u001b[0m\u001b[0m\n",
      "\u001b[0;32m~/miniforge3/envs/tf3/lib/python3.8/site-packages/matplotlib/__init__.py\u001b[0m in \u001b[0;36m<module>\u001b[0;34m\u001b[0m\n\u001b[1;32m    172\u001b[0m \u001b[0;34m\u001b[0m\u001b[0m\n\u001b[1;32m    173\u001b[0m \u001b[0;34m\u001b[0m\u001b[0m\n\u001b[0;32m--> 174\u001b[0;31m \u001b[0m_check_versions\u001b[0m\u001b[0;34m(\u001b[0m\u001b[0;34m)\u001b[0m\u001b[0;34m\u001b[0m\u001b[0;34m\u001b[0m\u001b[0m\n\u001b[0m\u001b[1;32m    175\u001b[0m \u001b[0;34m\u001b[0m\u001b[0m\n\u001b[1;32m    176\u001b[0m \u001b[0;34m\u001b[0m\u001b[0m\n",
      "\u001b[0;32m~/miniforge3/envs/tf3/lib/python3.8/site-packages/matplotlib/__init__.py\u001b[0m in \u001b[0;36m_check_versions\u001b[0;34m()\u001b[0m\n\u001b[1;32m    157\u001b[0m     \u001b[0;31m# Quickfix to ensure Microsoft Visual C++ redistributable\u001b[0m\u001b[0;34m\u001b[0m\u001b[0;34m\u001b[0m\u001b[0;34m\u001b[0m\u001b[0m\n\u001b[1;32m    158\u001b[0m     \u001b[0;31m# DLLs are loaded before importing kiwisolver\u001b[0m\u001b[0;34m\u001b[0m\u001b[0;34m\u001b[0m\u001b[0;34m\u001b[0m\u001b[0m\n\u001b[0;32m--> 159\u001b[0;31m     \u001b[0;32mfrom\u001b[0m \u001b[0;34m.\u001b[0m \u001b[0;32mimport\u001b[0m \u001b[0mft2font\u001b[0m\u001b[0;34m\u001b[0m\u001b[0;34m\u001b[0m\u001b[0m\n\u001b[0m\u001b[1;32m    160\u001b[0m \u001b[0;34m\u001b[0m\u001b[0m\n\u001b[1;32m    161\u001b[0m     for modname, minver in [\n",
      "\u001b[0;31mImportError\u001b[0m: dlopen(/Users/jimmyjacobson/miniforge3/envs/tf3/lib/python3.8/site-packages/matplotlib/ft2font.cpython-38-darwin.so, 2): Symbol not found: _FT_Done_Face\n  Referenced from: /Users/jimmyjacobson/miniforge3/envs/tf3/lib/python3.8/site-packages/matplotlib/ft2font.cpython-38-darwin.so\n  Expected in: flat namespace\n in /Users/jimmyjacobson/miniforge3/envs/tf3/lib/python3.8/site-packages/matplotlib/ft2font.cpython-38-darwin.so"
     ]
    }
   ],
   "source": [
    "import seaborn as sns\n",
    "import matplotlib.pyplot as plt\n",
    "\n",
    "fig, axs = plt.subplots(ncols=5, figsize=(30,5))\n",
    "sns.violinplot(x=\"survived\", y=\"age\", hue=\"sex\", data=data, ax=axs[0])\n",
    "sns.pointplot(x=\"sibsp\", y=\"survived\", hue=\"sex\", data=data, ax=axs[1])\n",
    "sns.pointplot(x=\"parch\", y=\"survived\", hue=\"sex\", data=data, ax=axs[2])\n",
    "sns.pointplot(x=\"pclass\", y=\"survived\", hue=\"sex\", data=data, ax=axs[3])\n",
    "sns.violinplot(x=\"survived\", y=\"fare\", hue=\"sex\", data=data, ax=axs[4])"
   ]
  },
  {
   "cell_type": "code",
   "execution_count": 9,
   "metadata": {},
   "outputs": [],
   "source": [
    "data.replace({'male': 1, 'female': 0}, inplace=True)"
   ]
  },
  {
   "cell_type": "code",
   "execution_count": 10,
   "metadata": {},
   "outputs": [
    {
     "data": {
      "text/html": "<div>\n<style scoped>\n    .dataframe tbody tr th:only-of-type {\n        vertical-align: middle;\n    }\n\n    .dataframe tbody tr th {\n        vertical-align: top;\n    }\n\n    .dataframe thead th {\n        text-align: right;\n    }\n</style>\n<table border=\"1\" class=\"dataframe\">\n  <thead>\n    <tr style=\"text-align: right;\">\n      <th></th>\n      <th>survived</th>\n    </tr>\n  </thead>\n  <tbody>\n    <tr>\n      <th>pclass</th>\n      <td>0.312469</td>\n    </tr>\n    <tr>\n      <th>survived</th>\n      <td>1.000000</td>\n    </tr>\n    <tr>\n      <th>sex</th>\n      <td>0.528693</td>\n    </tr>\n    <tr>\n      <th>age</th>\n      <td>0.055513</td>\n    </tr>\n    <tr>\n      <th>sibsp</th>\n      <td>0.027825</td>\n    </tr>\n    <tr>\n      <th>parch</th>\n      <td>0.082660</td>\n    </tr>\n    <tr>\n      <th>fare</th>\n      <td>0.244265</td>\n    </tr>\n  </tbody>\n</table>\n</div>",
      "text/plain": "          survived\npclass    0.312469\nsurvived  1.000000\nsex       0.528693\nage       0.055513\nsibsp     0.027825\nparch     0.082660\nfare      0.244265"
     },
     "execution_count": 10,
     "metadata": {},
     "output_type": "execute_result"
    }
   ],
   "source": [
    "data.corr().abs()[[\"survived\"]]"
   ]
  },
  {
   "cell_type": "code",
   "execution_count": 11,
   "metadata": {},
   "outputs": [
    {
     "data": {
      "text/html": "<div>\n<style scoped>\n    .dataframe tbody tr th:only-of-type {\n        vertical-align: middle;\n    }\n\n    .dataframe tbody tr th {\n        vertical-align: top;\n    }\n\n    .dataframe thead th {\n        text-align: right;\n    }\n</style>\n<table border=\"1\" class=\"dataframe\">\n  <thead>\n    <tr style=\"text-align: right;\">\n      <th></th>\n      <th>survived</th>\n    </tr>\n  </thead>\n  <tbody>\n    <tr>\n      <th>pclass</th>\n      <td>0.312469</td>\n    </tr>\n    <tr>\n      <th>survived</th>\n      <td>1.000000</td>\n    </tr>\n    <tr>\n      <th>sex</th>\n      <td>0.528693</td>\n    </tr>\n    <tr>\n      <th>age</th>\n      <td>0.055513</td>\n    </tr>\n    <tr>\n      <th>sibsp</th>\n      <td>0.027825</td>\n    </tr>\n    <tr>\n      <th>parch</th>\n      <td>0.082660</td>\n    </tr>\n    <tr>\n      <th>fare</th>\n      <td>0.244265</td>\n    </tr>\n    <tr>\n      <th>relatives</th>\n      <td>0.201719</td>\n    </tr>\n  </tbody>\n</table>\n</div>",
      "text/plain": "           survived\npclass     0.312469\nsurvived   1.000000\nsex        0.528693\nage        0.055513\nsibsp      0.027825\nparch      0.082660\nfare       0.244265\nrelatives  0.201719"
     },
     "execution_count": 11,
     "metadata": {},
     "output_type": "execute_result"
    }
   ],
   "source": [
    "data['relatives'] = data.apply (lambda row: int((row['sibsp'] + row['parch']) > 0), axis=1)\n",
    "data.corr().abs()[[\"survived\"]]"
   ]
  },
  {
   "cell_type": "code",
   "execution_count": 12,
   "metadata": {},
   "outputs": [],
   "source": [
    "data = data[['sex', 'pclass','age','relatives','fare','survived']].dropna()"
   ]
  },
  {
   "cell_type": "code",
   "execution_count": 14,
   "metadata": {},
   "outputs": [
    {
     "ename": "ModuleNotFoundError",
     "evalue": "No module named 'sklearn'",
     "output_type": "error",
     "traceback": [
      "\u001b[0;31m---------------------------------------------------------------------------\u001b[0m",
      "\u001b[0;31mModuleNotFoundError\u001b[0m                       Traceback (most recent call last)",
      "\u001b[0;32m<ipython-input-14-1dd6e5bb7626>\u001b[0m in \u001b[0;36m<module>\u001b[0;34m\u001b[0m\n\u001b[0;32m----> 1\u001b[0;31m \u001b[0;32mfrom\u001b[0m \u001b[0msklearn\u001b[0m\u001b[0;34m.\u001b[0m\u001b[0mmodel_selection\u001b[0m \u001b[0;32mimport\u001b[0m \u001b[0mtrain_test_split\u001b[0m\u001b[0;34m\u001b[0m\u001b[0;34m\u001b[0m\u001b[0m\n\u001b[0m\u001b[1;32m      2\u001b[0m \u001b[0mx_train\u001b[0m\u001b[0;34m,\u001b[0m \u001b[0mx_test\u001b[0m\u001b[0;34m,\u001b[0m \u001b[0my_train\u001b[0m\u001b[0;34m,\u001b[0m \u001b[0my_test\u001b[0m \u001b[0;34m=\u001b[0m \u001b[0mtrain_test_split\u001b[0m\u001b[0;34m(\u001b[0m\u001b[0mdata\u001b[0m\u001b[0;34m[\u001b[0m\u001b[0;34m[\u001b[0m\u001b[0;34m'sex'\u001b[0m\u001b[0;34m,\u001b[0m\u001b[0;34m'pclass'\u001b[0m\u001b[0;34m,\u001b[0m\u001b[0;34m'age'\u001b[0m\u001b[0;34m,\u001b[0m\u001b[0;34m'relatives'\u001b[0m\u001b[0;34m,\u001b[0m\u001b[0;34m'fare'\u001b[0m\u001b[0;34m]\u001b[0m\u001b[0;34m]\u001b[0m\u001b[0;34m,\u001b[0m \u001b[0mdata\u001b[0m\u001b[0;34m.\u001b[0m\u001b[0msurvived\u001b[0m\u001b[0;34m,\u001b[0m \u001b[0mtest_size\u001b[0m\u001b[0;34m=\u001b[0m\u001b[0;36m0.2\u001b[0m\u001b[0;34m,\u001b[0m \u001b[0mrandom_state\u001b[0m\u001b[0;34m=\u001b[0m\u001b[0;36m0\u001b[0m\u001b[0;34m)\u001b[0m\u001b[0;34m\u001b[0m\u001b[0;34m\u001b[0m\u001b[0m\n",
      "\u001b[0;31mModuleNotFoundError\u001b[0m: No module named 'sklearn'"
     ]
    }
   ],
   "source": [
    "from sklearn.model_selection import train_test_split\n",
    "x_train, x_test, y_train, y_test = train_test_split(data[['sex','pclass','age','relatives','fare']], data.survived, test_size=0.2, random_state=0)\n"
   ]
  },
  {
   "cell_type": "code",
   "execution_count": 28,
   "metadata": {},
   "outputs": [],
   "source": [
    "import tensorflow as tf \n",
    "from tensorflow import keras # import keras from tensorflow\n",
    "from tensorflow.keras import layers\n",
    "from tensorflow.keras import metrics\n",
    "\n",
    "model = keras.models.Sequential()"
   ]
  },
  {
   "cell_type": "code",
   "execution_count": 29,
   "metadata": {},
   "outputs": [
    {
     "name": "stdout",
     "output_type": "stream",
     "text": [
      "Model: \"sequential_1\"\n",
      "_________________________________________________________________\n",
      "Layer (type)                 Output Shape              Param #   \n",
      "=================================================================\n",
      "dense_3 (Dense)              (None, 5)                 30        \n",
      "_________________________________________________________________\n",
      "dense_4 (Dense)              (None, 5)                 30        \n",
      "_________________________________________________________________\n",
      "dense_5 (Dense)              (None, 1)                 6         \n",
      "=================================================================\n",
      "Total params: 66\n",
      "Trainable params: 66\n",
      "Non-trainable params: 0\n",
      "_________________________________________________________________\n"
     ]
    }
   ],
   "source": [
    "model.add(layers.Dense(5, kernel_initializer = 'uniform', activation = 'relu', input_dim = 5))\n",
    "model.add(layers.Dense(5, kernel_initializer = 'uniform', activation = 'relu'))\n",
    "model.add(layers.Dense(1, kernel_initializer = 'uniform', activation = 'sigmoid'))\n",
    "model.summary()"
   ]
  },
  {
   "cell_type": "code",
   "execution_count": 30,
   "metadata": {},
   "outputs": [
    {
     "name": "stdout",
     "output_type": "stream",
     "text": [
      "Epoch 1/50\n",
      "33/33 [==============================] - 0s 476us/step - loss: 0.6927 - accuracy: 0.5411\n",
      "Epoch 2/50\n",
      "33/33 [==============================] - 0s 584us/step - loss: 0.6906 - accuracy: 0.5931\n",
      "Epoch 3/50\n",
      "33/33 [==============================] - 0s 559us/step - loss: 0.6891 - accuracy: 0.5869\n",
      "Epoch 4/50\n",
      "33/33 [==============================] - 0s 478us/step - loss: 0.6868 - accuracy: 0.5999\n",
      "Epoch 5/50\n",
      "33/33 [==============================] - 0s 572us/step - loss: 0.6890 - accuracy: 0.5572\n",
      "Epoch 6/50\n",
      "33/33 [==============================] - 0s 547us/step - loss: 0.6857 - accuracy: 0.5837\n",
      "Epoch 7/50\n",
      "33/33 [==============================] - 0s 518us/step - loss: 0.6839 - accuracy: 0.5893\n",
      "Epoch 8/50\n",
      "33/33 [==============================] - 0s 522us/step - loss: 0.6801 - accuracy: 0.6105\n",
      "Epoch 9/50\n",
      "33/33 [==============================] - 0s 510us/step - loss: 0.6798 - accuracy: 0.6049\n",
      "Epoch 10/50\n",
      "33/33 [==============================] - 0s 509us/step - loss: 0.6790 - accuracy: 0.6038\n",
      "Epoch 11/50\n",
      "33/33 [==============================] - 0s 540us/step - loss: 0.6821 - accuracy: 0.5824\n",
      "Epoch 12/50\n",
      "33/33 [==============================] - 0s 558us/step - loss: 0.6793 - accuracy: 0.5948\n",
      "Epoch 13/50\n",
      "33/33 [==============================] - 0s 468us/step - loss: 0.6812 - accuracy: 0.5831\n",
      "Epoch 14/50\n",
      "33/33 [==============================] - 0s 564us/step - loss: 0.6819 - accuracy: 0.5779\n",
      "Epoch 15/50\n",
      "33/33 [==============================] - 0s 518us/step - loss: 0.6743 - accuracy: 0.6096\n",
      "Epoch 16/50\n",
      "33/33 [==============================] - 0s 534us/step - loss: 0.6874 - accuracy: 0.5541\n",
      "Epoch 17/50\n",
      "33/33 [==============================] - 0s 459us/step - loss: 0.6760 - accuracy: 0.5998\n",
      "Epoch 18/50\n",
      "33/33 [==============================] - 0s 645us/step - loss: 0.6781 - accuracy: 0.5901\n",
      "Epoch 19/50\n",
      "33/33 [==============================] - 0s 506us/step - loss: 0.6751 - accuracy: 0.6004\n",
      "Epoch 20/50\n",
      "33/33 [==============================] - 0s 499us/step - loss: 0.6807 - accuracy: 0.5791\n",
      "Epoch 21/50\n",
      "33/33 [==============================] - 0s 510us/step - loss: 0.6759 - accuracy: 0.5959\n",
      "Epoch 22/50\n",
      "33/33 [==============================] - 0s 531us/step - loss: 0.6749 - accuracy: 0.5987\n",
      "Epoch 23/50\n",
      "33/33 [==============================] - 0s 500us/step - loss: 0.6704 - accuracy: 0.6132\n",
      "Epoch 24/50\n",
      "33/33 [==============================] - 0s 514us/step - loss: 0.6715 - accuracy: 0.6089\n",
      "Epoch 25/50\n",
      "33/33 [==============================] - 0s 517us/step - loss: 0.6714 - accuracy: 0.6087\n",
      "Epoch 26/50\n",
      "33/33 [==============================] - 0s 463us/step - loss: 0.6774 - accuracy: 0.5892\n",
      "Epoch 27/50\n",
      "33/33 [==============================] - 0s 501us/step - loss: 0.6813 - accuracy: 0.5767\n",
      "Epoch 28/50\n",
      "33/33 [==============================] - 0s 503us/step - loss: 0.6689 - accuracy: 0.6156\n",
      "Epoch 29/50\n",
      "33/33 [==============================] - 0s 509us/step - loss: 0.6856 - accuracy: 0.5639\n",
      "Epoch 30/50\n",
      "33/33 [==============================] - 0s 494us/step - loss: 0.6771 - accuracy: 0.5897\n",
      "Epoch 31/50\n",
      "33/33 [==============================] - 0s 500us/step - loss: 0.6816 - accuracy: 0.5760\n",
      "Epoch 32/50\n",
      "33/33 [==============================] - 0s 522us/step - loss: 0.6800 - accuracy: 0.5810\n",
      "Epoch 33/50\n",
      "33/33 [==============================] - 0s 498us/step - loss: 0.6822 - accuracy: 0.5746\n",
      "Epoch 34/50\n",
      "33/33 [==============================] - 0s 481us/step - loss: 0.6820 - accuracy: 0.5753\n",
      "Epoch 35/50\n",
      "33/33 [==============================] - 0s 476us/step - loss: 0.6767 - accuracy: 0.5906\n",
      "Epoch 36/50\n",
      "33/33 [==============================] - 0s 512us/step - loss: 0.6873 - accuracy: 0.5602\n",
      "Epoch 37/50\n",
      "33/33 [==============================] - 0s 501us/step - loss: 0.6771 - accuracy: 0.5893\n",
      "Epoch 38/50\n",
      "33/33 [==============================] - 0s 551us/step - loss: 0.6740 - accuracy: 0.5983\n",
      "Epoch 39/50\n",
      "33/33 [==============================] - 0s 466us/step - loss: 0.6779 - accuracy: 0.5872\n",
      "Epoch 40/50\n",
      "33/33 [==============================] - 0s 508us/step - loss: 0.6742 - accuracy: 0.5977\n",
      "Epoch 41/50\n",
      "33/33 [==============================] - 0s 753us/step - loss: 0.6782 - accuracy: 0.5862\n",
      "Epoch 42/50\n",
      "33/33 [==============================] - 0s 1ms/step - loss: 0.6704 - accuracy: 0.6081\n",
      "Epoch 43/50\n",
      "33/33 [==============================] - 0s 523us/step - loss: 0.6749 - accuracy: 0.5955\n",
      "Epoch 44/50\n",
      "33/33 [==============================] - 0s 498us/step - loss: 0.6783 - accuracy: 0.5859\n",
      "Epoch 45/50\n",
      "33/33 [==============================] - 0s 640us/step - loss: 0.6778 - accuracy: 0.5875\n",
      "Epoch 46/50\n",
      "33/33 [==============================] - 0s 551us/step - loss: 0.6731 - accuracy: 0.6005\n",
      "Epoch 47/50\n",
      "33/33 [==============================] - 0s 468us/step - loss: 0.6711 - accuracy: 0.6060\n",
      "Epoch 48/50\n",
      "33/33 [==============================] - 0s 468us/step - loss: 0.6752 - accuracy: 0.5947\n",
      "Epoch 49/50\n",
      "33/33 [==============================] - 0s 537us/step - loss: 0.6727 - accuracy: 0.6014\n",
      "Epoch 50/50\n",
      "33/33 [==============================] - 0s 481us/step - loss: 0.6821 - accuracy: 0.5757\n"
     ]
    },
    {
     "data": {
      "text/plain": "<tensorflow.python.keras.callbacks.History at 0x16183d0a0>"
     },
     "execution_count": 30,
     "metadata": {},
     "output_type": "execute_result"
    }
   ],
   "source": [
    "model.compile(optimizer=\"adam\", loss=keras.losses.binary_crossentropy, metrics=['accuracy'])\n",
    "model.fit(data[['sex','pclass','age','relatives','fare']], data[['survived']], batch_size=32, epochs=50)"
   ]
  },
  {
   "cell_type": "code",
   "execution_count": 32,
   "metadata": {},
   "outputs": [
    {
     "name": "stdout",
     "output_type": "stream",
     "text": [
      "33/33 [==============================] - 0s 347us/step - loss: 0.6764 - accuracy: 0.5914\n"
     ]
    },
    {
     "data": {
      "text/plain": "[0.6763574481010437, 0.5913875699043274]"
     },
     "execution_count": 32,
     "metadata": {},
     "output_type": "execute_result"
    }
   ],
   "source": [
    "#y_pred = model.predict_classes(data[['sex','pclass','age','relatives','fare']])\n",
    "#print(metrics.accuracy_score(y_test, y_pred))\n",
    "model.evaluate(data[['sex','pclass','age','relatives','fare']], data[['survived']])"
   ]
  }
 ],
 "metadata": {
  "kernelspec": {
   "display_name": "Python 3.8.8 64-bit ('tf3': conda)",
   "name": "python388jvsc74a57bd09e6d92169f8d322214dc5d6dee2393e06fcfd480ddbc2f8ce1f73f1e599ce37d"
  },
  "language_info": {
   "codemirror_mode": {
    "name": "ipython",
    "version": 3
   },
   "file_extension": ".py",
   "mimetype": "text/x-python",
   "name": "python",
   "nbconvert_exporter": "python",
   "pygments_lexer": "ipython3",
   "version": "3.8.8"
  },
  "metadata": {
   "interpreter": {
    "hash": "9e6d92169f8d322214dc5d6dee2393e06fcfd480ddbc2f8ce1f73f1e599ce37d"
   }
  },
  "orig_nbformat": 2
 },
 "nbformat": 4,
 "nbformat_minor": 2
}